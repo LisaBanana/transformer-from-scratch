{
  "nbformat": 4,
  "nbformat_minor": 0,
  "metadata": {
    "kernelspec": {
      "name": "python3",
      "display_name": "Python 3"
    },
    "language_info": {
      "codemirror_mode": {
        "name": "ipython",
        "version": 3
      },
      "file_extension": ".py",
      "mimetype": "text/x-python",
      "name": "python",
      "nbconvert_exporter": "python",
      "pygments_lexer": "ipython3",
      "version": "3.6.1"
    },
    "colab": {
      "name": "AAII_Transformer_Tutorial",
      "provenance": [],
      "collapsed_sections": [
        "0FxbG1zZ01Zf",
        "g2V-uQX70sNg",
        "TCQnBU2t0ZBa",
        "0YU-lxmZ1nfZ",
        "pIh5g8yj2G3t"
      ]
    },
    "accelerator": "GPU"
  },
  "cells": [
    {
      "cell_type": "markdown",
      "metadata": {
        "id": "7_aDMApv63qs",
        "colab_type": "text"
      },
      "source": [
        "# AAII Transformer Tutorial\n",
        "### By David Reiman (github.com/davidreiman)"
      ]
    },
    {
      "cell_type": "markdown",
      "metadata": {
        "id": "Bjqs7ztB7HNW",
        "colab_type": "text"
      },
      "source": [
        "#### Note: you should use a GPU runtime while running this notebook. To do so, select `Runtime` -> `Change runtime type` and select `GPU` under `Hardware accelerator`. You should then be assigned a GPU. You can check this via the `!nvidia-smi` command."
      ]
    },
    {
      "cell_type": "code",
      "metadata": {
        "id": "gpqWUQIH7nk_",
        "colab_type": "code",
        "outputId": "8a97231b-80b9-4483-81b2-1389e87e5e9b",
        "colab": {
          "base_uri": "https://localhost:8080/",
          "height": 306
        }
      },
      "source": [
        "!nvidia-smi"
      ],
      "execution_count": 0,
      "outputs": [
        {
          "output_type": "stream",
          "text": [
            "Fri Nov 22 01:55:08 2019       \n",
            "+-----------------------------------------------------------------------------+\n",
            "| NVIDIA-SMI 430.50       Driver Version: 418.67       CUDA Version: 10.1     |\n",
            "|-------------------------------+----------------------+----------------------+\n",
            "| GPU  Name        Persistence-M| Bus-Id        Disp.A | Volatile Uncorr. ECC |\n",
            "| Fan  Temp  Perf  Pwr:Usage/Cap|         Memory-Usage | GPU-Util  Compute M. |\n",
            "|===============================+======================+======================|\n",
            "|   0  Tesla P100-PCIE...  Off  | 00000000:00:04.0 Off |                    0 |\n",
            "| N/A   36C    P0    27W / 250W |      0MiB / 16280MiB |      0%      Default |\n",
            "+-------------------------------+----------------------+----------------------+\n",
            "                                                                               \n",
            "+-----------------------------------------------------------------------------+\n",
            "| Processes:                                                       GPU Memory |\n",
            "|  GPU       PID   Type   Process name                             Usage      |\n",
            "|=============================================================================|\n",
            "|  No running processes found                                                 |\n",
            "+-----------------------------------------------------------------------------+\n"
          ],
          "name": "stdout"
        }
      ]
    },
    {
      "cell_type": "markdown",
      "metadata": {
        "id": "mHeEoLUf0gEK",
        "colab_type": "text"
      },
      "source": [
        "# Imports"
      ]
    },
    {
      "cell_type": "code",
      "metadata": {
        "id": "48JWrYI5xQxU",
        "colab_type": "code",
        "colab": {}
      },
      "source": [
        "%matplotlib inline\n",
        "import os\n",
        "import sys\n",
        "import glob\n",
        "import pickle\n",
        "import zipfile\n",
        "import datetime\n",
        "import torch\n",
        "import torch.optim as optim\n",
        "import torch.nn as nn\n",
        "import torch.nn.utils as U\n",
        "import torch.nn.functional as F\n",
        "import numpy as np\n",
        "import seaborn as sns\n",
        "import collections as col\n",
        "import matplotlib.pyplot as plt\n",
        "from tqdm import tqdm_notebook as tqdm\n",
        "from collections import Counter, OrderedDict"
      ],
      "execution_count": 0,
      "outputs": []
    },
    {
      "cell_type": "code",
      "metadata": {
        "id": "qjii1GGpxQxY",
        "colab_type": "code",
        "colab": {}
      },
      "source": [
        "sns.set()\n",
        "np.random.seed(1)\n",
        "torch.manual_seed(1)\n",
        "plt.rcParams['figure.figsize'] = (16, 8)"
      ],
      "execution_count": 0,
      "outputs": []
    },
    {
      "cell_type": "markdown",
      "metadata": {
        "id": "uOOlvZmH0cCg",
        "colab_type": "text"
      },
      "source": [
        "# Prepare data"
      ]
    },
    {
      "cell_type": "markdown",
      "metadata": {
        "id": "0FxbG1zZ01Zf",
        "colab_type": "text"
      },
      "source": [
        "### Download enwik8"
      ]
    },
    {
      "cell_type": "markdown",
      "metadata": {
        "id": "8CfIPXS_ElvR",
        "colab_type": "text"
      },
      "source": [
        "enwik8 is a character-level dataset comprising the first $10^9$ bytes of the English Wikipedia."
      ]
    },
    {
      "cell_type": "code",
      "metadata": {
        "id": "q1I-y_j20cZP",
        "colab_type": "code",
        "outputId": "75db44a3-5057-45a5-f700-e407920b4403",
        "colab": {
          "base_uri": "https://localhost:8080/",
          "height": 204
        }
      },
      "source": [
        "!wget --continue http://mattmahoney.net/dc/enwik8.zip"
      ],
      "execution_count": 0,
      "outputs": [
        {
          "output_type": "stream",
          "text": [
            "--2019-11-21 03:14:11--  http://mattmahoney.net/dc/enwik8.zip\n",
            "Resolving mattmahoney.net (mattmahoney.net)... 67.195.197.75\n",
            "Connecting to mattmahoney.net (mattmahoney.net)|67.195.197.75|:80... connected.\n",
            "HTTP request sent, awaiting response... 200 OK\n",
            "Length: 36445475 (35M) [application/zip]\n",
            "Saving to: ‘enwik8.zip’\n",
            "\n",
            "enwik8.zip          100%[===================>]  34.76M   336KB/s    in 1m 48s  \n",
            "\n",
            "2019-11-21 03:16:00 (329 KB/s) - ‘enwik8.zip’ saved [36445475/36445475]\n",
            "\n"
          ],
          "name": "stdout"
        }
      ]
    },
    {
      "cell_type": "markdown",
      "metadata": {
        "id": "g2V-uQX70sNg",
        "colab_type": "text"
      },
      "source": [
        "### Process enwik8 (credit: Salesforce)"
      ]
    },
    {
      "cell_type": "markdown",
      "metadata": {
        "id": "kVX984OWE3U2",
        "colab_type": "text"
      },
      "source": [
        "This will turn all unique characters in enwik8 to their UTF-8 encoding (an 8-bit integer)."
      ]
    },
    {
      "cell_type": "code",
      "metadata": {
        "id": "Is-YwPAX0mx9",
        "colab_type": "code",
        "colab": {}
      },
      "source": [
        "if os.path.exists('train.txt'):\n",
        "    print('Tokenized enwik8 already exists - skipping processing')\n",
        "    sys.exit()\n",
        "\n",
        "data = zipfile.ZipFile('enwik8.zip').read('enwik8')\n",
        "\n",
        "print('Length of enwik8: {}'.format(len(data)))\n",
        "\n",
        "num_test_chars = 5000000\n",
        "\n",
        "train_data = data[: -2 * num_test_chars]\n",
        "valid_data = data[-2 * num_test_chars: -num_test_chars]\n",
        "test_data = data[-num_test_chars:]\n",
        "\n",
        "for fn, part in [('train.txt', train_data), ('valid.txt', valid_data), ('test.txt', test_data)]:\n",
        "    print('{} will have {} bytes'.format(fn, len(part)))\n",
        "    print('- Tokenizing...')\n",
        "    part_str = ' '.join([str(c) if c != ord('\\n') else '\\n' for c in part])\n",
        "    print('- Writing...')\n",
        "    f = open(fn, 'w').write(part_str)\n",
        "    f = open(fn + '.raw', 'wb').write(part)"
      ],
      "execution_count": 0,
      "outputs": []
    },
    {
      "cell_type": "markdown",
      "metadata": {
        "id": "TCQnBU2t0ZBa",
        "colab_type": "text"
      },
      "source": [
        "# Utils"
      ]
    },
    {
      "cell_type": "markdown",
      "metadata": {
        "id": "0YU-lxmZ1nfZ",
        "colab_type": "text"
      },
      "source": [
        "### Dataset iterator (credit: Zhilin Yang [Transformer-XL])"
      ]
    },
    {
      "cell_type": "code",
      "metadata": {
        "id": "h8UwVWh7xQxc",
        "colab_type": "code",
        "colab": {}
      },
      "source": [
        "class Vocab(object):\n",
        "    def __init__(self, special=[], min_freq=0, max_size=None, lower_case=True,\n",
        "                 delimiter=None, vocab_file=None):\n",
        "        self.counter = Counter()\n",
        "        self.special = special\n",
        "        self.min_freq = min_freq\n",
        "        self.max_size = max_size\n",
        "        self.lower_case = lower_case\n",
        "        self.delimiter = delimiter\n",
        "        self.vocab_file = vocab_file\n",
        "\n",
        "    def tokenize(self, line, add_eos=False, add_double_eos=False):\n",
        "        line = line.strip()\n",
        "        # convert to lower case\n",
        "        if self.lower_case:\n",
        "            line = line.lower()\n",
        "\n",
        "        # empty delimiter '' will evaluate False\n",
        "        if self.delimiter == '':\n",
        "            symbols = line\n",
        "        else:\n",
        "            symbols = line.split(self.delimiter)\n",
        "\n",
        "        if add_double_eos: # lm1b\n",
        "            return ['<S>'] + symbols + ['<S>']\n",
        "        elif add_eos:\n",
        "            return symbols + ['<eos>']\n",
        "        else:\n",
        "            return symbols\n",
        "\n",
        "    def count_file(self, path, verbose=False, add_eos=False):\n",
        "        if verbose: print('counting file {} ...'.format(path))\n",
        "        assert os.path.exists(path)\n",
        "\n",
        "        sents = []\n",
        "        with open(path, 'r', encoding='utf-8') as f:\n",
        "            for idx, line in enumerate(f):\n",
        "                if verbose and idx > 0 and idx % 500000 == 0:\n",
        "                    print('    line {}'.format(idx))\n",
        "                symbols = self.tokenize(line, add_eos=add_eos)\n",
        "                self.counter.update(symbols)\n",
        "                sents.append(symbols)\n",
        "\n",
        "        return sents\n",
        "\n",
        "    def count_sents(self, sents, verbose=False):\n",
        "        \"\"\"\n",
        "            sents : a list of sentences, each a list of tokenized symbols\n",
        "        \"\"\"\n",
        "        if verbose: print('counting {} sents ...'.format(len(sents)))\n",
        "        for idx, symbols in enumerate(sents):\n",
        "            if verbose and idx > 0 and idx % 500000 == 0:\n",
        "                print('    line {}'.format(idx))\n",
        "            self.counter.update(symbols)\n",
        "\n",
        "    def _build_from_file(self, vocab_file):\n",
        "        self.idx2sym = []\n",
        "        self.sym2idx = OrderedDict()\n",
        "\n",
        "        with open(vocab_file, 'r', encoding='utf-8') as f:\n",
        "            for line in f:\n",
        "                symb = line.strip().split()[0]\n",
        "                self.add_symbol(symb)\n",
        "        self.unk_idx = self.sym2idx['<UNK>']\n",
        "\n",
        "    def build_vocab(self):\n",
        "        if self.vocab_file:\n",
        "            print('building vocab from {}'.format(self.vocab_file))\n",
        "            self._build_from_file(self.vocab_file)\n",
        "            print('final vocab size {}'.format(len(self)))\n",
        "        else:\n",
        "            print('building vocab with min_freq={}, max_size={}'.format(\n",
        "                self.min_freq, self.max_size))\n",
        "            self.idx2sym = []\n",
        "            self.sym2idx = OrderedDict()\n",
        "\n",
        "            for sym in self.special:\n",
        "                self.add_special(sym)\n",
        "\n",
        "            for sym, cnt in self.counter.most_common(self.max_size):\n",
        "                if cnt < self.min_freq: break\n",
        "                self.add_symbol(sym)\n",
        "\n",
        "            print('final vocab size {} from {} unique tokens'.format(\n",
        "                len(self), len(self.counter)))\n",
        "\n",
        "    def encode_file(self, path, ordered=False, verbose=False, add_eos=True,\n",
        "            add_double_eos=False):\n",
        "        if verbose: print('encoding file {} ...'.format(path))\n",
        "        assert os.path.exists(path)\n",
        "        encoded = []\n",
        "        with open(path, 'r', encoding='utf-8') as f:\n",
        "            for idx, line in enumerate(f):\n",
        "                if verbose and idx > 0 and idx % 500000 == 0:\n",
        "                    print('    line {}'.format(idx))\n",
        "                symbols = self.tokenize(line, add_eos=add_eos,\n",
        "                    add_double_eos=add_double_eos)\n",
        "                encoded.append(self.convert_to_tensor(symbols))\n",
        "\n",
        "        if ordered:\n",
        "            encoded = torch.cat(encoded)\n",
        "\n",
        "        return encoded\n",
        "\n",
        "    def encode_sents(self, sents, ordered=False, verbose=False):\n",
        "        if verbose: print('encoding {} sents ...'.format(len(sents)))\n",
        "        encoded = []\n",
        "        for idx, symbols in enumerate(sents):\n",
        "            if verbose and idx > 0 and idx % 500000 == 0:\n",
        "                print('    line {}'.format(idx))\n",
        "            encoded.append(self.convert_to_tensor(symbols))\n",
        "\n",
        "        if ordered:\n",
        "            encoded = torch.cat(encoded)\n",
        "\n",
        "        return encoded\n",
        "\n",
        "    def add_special(self, sym):\n",
        "        if sym not in self.sym2idx:\n",
        "            self.idx2sym.append(sym)\n",
        "            self.sym2idx[sym] = len(self.idx2sym) - 1\n",
        "            setattr(self, '{}_idx'.format(sym.strip('<>')), self.sym2idx[sym])\n",
        "\n",
        "    def add_symbol(self, sym):\n",
        "        if sym not in self.sym2idx:\n",
        "            self.idx2sym.append(sym)\n",
        "            self.sym2idx[sym] = len(self.idx2sym) - 1\n",
        "\n",
        "    def get_sym(self, idx):\n",
        "        assert 0 <= idx < len(self), 'Index {} out of range'.format(idx)\n",
        "        return self.idx2sym[idx]\n",
        "\n",
        "    def get_idx(self, sym):\n",
        "        if sym in self.sym2idx:\n",
        "            return self.sym2idx[sym]\n",
        "        else:\n",
        "            # print('encounter unk {}'.format(sym))\n",
        "            assert '<eos>' not in sym\n",
        "            assert hasattr(self, 'unk_idx')\n",
        "            return self.sym2idx.get(sym, self.unk_idx)\n",
        "\n",
        "    def get_symbols(self, indices):\n",
        "        return [self.get_sym(idx) for idx in indices]\n",
        "\n",
        "    def get_indices(self, symbols):\n",
        "        return [self.get_idx(sym) for sym in symbols]\n",
        "\n",
        "    def convert_to_tensor(self, symbols):\n",
        "        return torch.LongTensor(self.get_indices(symbols))\n",
        "\n",
        "    def convert_to_sent(self, indices, exclude=None):\n",
        "        if exclude is None:\n",
        "            return ' '.join([self.get_sym(idx) for idx in indices])\n",
        "        else:\n",
        "            return ' '.join([self.get_sym(idx) for idx in indices if idx not in exclude])\n",
        "\n",
        "    def __len__(self):\n",
        "        return len(self.idx2sym)\n",
        "\n",
        "\n",
        "class LMOrderedIterator(object):\n",
        "    def __init__(self, data, bsz, bptt, device='cpu', ext_len=None):\n",
        "        \"\"\"\n",
        "            data -- LongTensor -- the LongTensor is strictly ordered\n",
        "        \"\"\"\n",
        "        self.bsz = bsz\n",
        "        self.bptt = bptt\n",
        "        self.ext_len = ext_len if ext_len is not None else 0\n",
        "\n",
        "        self.device = device\n",
        "\n",
        "        # Work out how cleanly we can divide the dataset into bsz parts.\n",
        "        self.n_step = data.size(0) // bsz\n",
        "\n",
        "        # Trim off any extra elements that wouldn't cleanly fit (remainders).\n",
        "        data = data.narrow(0, 0, self.n_step * bsz)\n",
        "\n",
        "        # Evenly divide the data across the bsz batches.\n",
        "        self.data = data.view(bsz, -1).t().contiguous().to(device)\n",
        "\n",
        "        # Number of mini-batches\n",
        "        self.n_batch = (self.n_step + self.bptt - 1) // self.bptt\n",
        "\n",
        "    def get_batch(self, i, bptt=None):\n",
        "        if bptt is None: bptt = self.bptt\n",
        "        seq_len = min(bptt, self.data.size(0) - 1 - i)\n",
        "\n",
        "        end_idx = i + seq_len\n",
        "        beg_idx = max(0, i - self.ext_len)\n",
        "\n",
        "        data = self.data[beg_idx:end_idx]\n",
        "        target = self.data[i+1:i+1+seq_len]\n",
        "\n",
        "        return data, target, seq_len\n",
        "\n",
        "    def get_fixlen_iter(self, start=0):\n",
        "        for i in range(start, self.data.size(0) - 1, self.bptt):\n",
        "            yield self.get_batch(i)\n",
        "\n",
        "    def get_varlen_iter(self, start=0, std=5, min_len=5, max_deviation=3):\n",
        "        max_len = self.bptt + max_deviation * std\n",
        "        i = start\n",
        "        while True:\n",
        "            bptt = self.bptt if np.random.random() < 0.95 else self.bptt / 2.\n",
        "            bptt = min(max_len, max(min_len, int(np.random.normal(bptt, std))))\n",
        "            data, target, seq_len = self.get_batch(i, bptt)\n",
        "            i += seq_len\n",
        "            yield data, target, seq_len\n",
        "            if i >= self.data.size(0) - 2:\n",
        "                break\n",
        "\n",
        "    def __iter__(self):\n",
        "        return self.get_fixlen_iter()\n",
        "\n",
        "\n",
        "class Corpus(object):\n",
        "    def __init__(self, path, dataset, *args, **kwargs):\n",
        "        self.dataset = dataset\n",
        "        self.vocab = Vocab(*args, **kwargs)\n",
        "\n",
        "        if self.dataset in ['ptb', 'wt2', 'enwik8', 'text8']:\n",
        "            self.vocab.count_file(os.path.join(path, 'train.txt'))\n",
        "            self.vocab.count_file(os.path.join(path, 'valid.txt'))\n",
        "            self.vocab.count_file(os.path.join(path, 'test.txt'))\n",
        "        elif self.dataset == 'wt103':\n",
        "            self.vocab.count_file(os.path.join(path, 'train.txt'))\n",
        "        elif self.dataset == 'lm1b':\n",
        "            train_path_pattern = os.path.join(\n",
        "                path, '1-billion-word-language-modeling-benchmark-r13output',\n",
        "                'training-monolingual.tokenized.shuffled', 'news.en-*')\n",
        "            train_paths = glob.glob(train_path_pattern)\n",
        "            # the vocab will load from file when build_vocab() is called\n",
        "\n",
        "        self.vocab.build_vocab()\n",
        "\n",
        "        if self.dataset in ['ptb', 'wt2', 'wt103']:\n",
        "            self.train = self.vocab.encode_file(\n",
        "                os.path.join(path, 'train.txt'), ordered=True)\n",
        "            self.valid = self.vocab.encode_file(\n",
        "                os.path.join(path, 'valid.txt'), ordered=True)\n",
        "            self.test  = self.vocab.encode_file(\n",
        "                os.path.join(path, 'test.txt'), ordered=True)\n",
        "        elif self.dataset in ['enwik8', 'text8']:\n",
        "            self.train = self.vocab.encode_file(\n",
        "                os.path.join(path, 'train.txt'), ordered=True, add_eos=False)\n",
        "            self.valid = self.vocab.encode_file(\n",
        "                os.path.join(path, 'valid.txt'), ordered=True, add_eos=False)\n",
        "            self.test  = self.vocab.encode_file(\n",
        "                os.path.join(path, 'test.txt'), ordered=True, add_eos=False)\n",
        "        elif self.dataset == 'lm1b':\n",
        "            self.train = train_paths\n",
        "            self.valid = self.vocab.encode_file(\n",
        "                os.path.join(path, 'valid.txt'), ordered=False, add_double_eos=True)\n",
        "            self.test  = self.vocab.encode_file(\n",
        "                os.path.join(path, 'test.txt'), ordered=False, add_double_eos=True)\n",
        "\n",
        "    def get_iterator(self, split, *args, **kwargs):\n",
        "        if split == 'train':\n",
        "            if self.dataset in ['ptb', 'wt2', 'wt103', 'enwik8', 'text8']:\n",
        "                data_iter = LMOrderedIterator(self.train, *args, **kwargs)\n",
        "            elif self.dataset == 'lm1b':\n",
        "                kwargs['shuffle'] = True\n",
        "                data_iter = LMMultiFileIterator(self.train, self.vocab, *args, **kwargs)\n",
        "        elif split in ['valid', 'test']:\n",
        "            data = self.valid if split == 'valid' else self.test\n",
        "            if self.dataset in ['ptb', 'wt2', 'wt103', 'enwik8', 'text8']:\n",
        "                data_iter = LMOrderedIterator(data, *args, **kwargs)\n",
        "            elif self.dataset == 'lm1b':\n",
        "                data_iter = LMShuffledIterator(data, *args, **kwargs)\n",
        "\n",
        "        return data_iter\n",
        "\n",
        "\n",
        "def get_lm_corpus(datadir, dataset):\n",
        "    fn = os.path.join(datadir, 'cache.pt')\n",
        "    if os.path.exists(fn):\n",
        "        print('Loading cached dataset...')\n",
        "        corpus = torch.load(fn)\n",
        "    else:\n",
        "        print('Producing dataset {}...'.format(dataset))\n",
        "        kwargs = {}\n",
        "        if dataset in ['wt103', 'wt2']:\n",
        "            kwargs['special'] = ['<eos>']\n",
        "            kwargs['lower_case'] = False\n",
        "        elif dataset == 'ptb':\n",
        "            kwargs['special'] = ['<eos>']\n",
        "            kwargs['lower_case'] = True\n",
        "        elif dataset == 'lm1b':\n",
        "            kwargs['special'] = []\n",
        "            kwargs['lower_case'] = False\n",
        "            kwargs['vocab_file'] = os.path.join(datadir, '1b_word_vocab.txt')\n",
        "        elif dataset in ['enwik8', 'text8']:\n",
        "            pass\n",
        "\n",
        "        corpus = Corpus(datadir, dataset, **kwargs)\n",
        "        torch.save(corpus, fn)\n",
        "\n",
        "    return corpus"
      ],
      "execution_count": 0,
      "outputs": []
    },
    {
      "cell_type": "markdown",
      "metadata": {
        "id": "pIh5g8yj2G3t",
        "colab_type": "text"
      },
      "source": [
        "### Function to calculate number of trainable parameters"
      ]
    },
    {
      "cell_type": "code",
      "metadata": {
        "id": "KmGH7Zd-2F6q",
        "colab_type": "code",
        "colab": {}
      },
      "source": [
        "def n_params(model):\n",
        "    trainable = filter(lambda x: x.requires_grad, model.parameters())\n",
        "    n_params = sum([np.prod(p.size()) for p in trainable])\n",
        "    return n_params"
      ],
      "execution_count": 0,
      "outputs": []
    },
    {
      "cell_type": "markdown",
      "metadata": {
        "id": "GeFa1JAZ0eE5",
        "colab_type": "text"
      },
      "source": [
        "# Transformer Modules"
      ]
    },
    {
      "cell_type": "code",
      "metadata": {
        "id": "_NZ_6XM9xQxe",
        "colab_type": "code",
        "colab": {}
      },
      "source": [
        "class Attention(nn.Module):\n",
        "    \"\"\"Self-attention decoder layer.\"\"\"\n",
        "    def __init__(self, d_model, n_heads, d_ff, dropout_ff, dropout_att):\n",
        "        super(Attention, self).__init__()\n",
        "\n",
        "        self.d_model = d_model\n",
        "        self.n_heads = n_heads\n",
        "        self.d_head = d_model // n_heads\n",
        "        self.dropout_ff = nn.Dropout(dropout_ff)\n",
        "        self.dropout_att = nn.Dropout(dropout_att)\n",
        "        assert d_model % n_heads == 0\n",
        "        self.wq = nn.Linear(d_model, d_model)\n",
        "        self.wk = nn.Linear(d_model, d_model)\n",
        "        self.wv = nn.Linear(d_model, d_model)\n",
        "        self.fc = nn.Linear(d_model, d_model)\n",
        "        self.ffn1 = nn.Linear(d_model, d_ff)\n",
        "        self.ffn2 = nn.Linear(d_ff, d_model)\n",
        "        self.norm1 = nn.LayerNorm(d_model)\n",
        "        self.norm2 = nn.LayerNorm(d_model)\n",
        "\n",
        "    def forward(self, x, return_affinity=False):\n",
        "        \"\"\"Multi-head attention.\"\"\"\n",
        "        # x (B, emb, seqlen)\n",
        "        bsz, _, seqlen = x.size()\n",
        "        x = x.transpose(1, 2)\n",
        "        \n",
        "        \"\"\"Compute attention matrix.\"\"\"\n",
        "        q = self.wq(x).view(bsz, -1, self.n_heads, self.d_head).transpose(1, 2)\n",
        "        k = self.wk(x).view(bsz, -1, self.n_heads, self.d_head).transpose(1, 2)\n",
        "        v = self.wv(x).view(bsz, -1, self.n_heads, self.d_head).transpose(1, 2)\n",
        "        attn_mat = torch.matmul(q, k.transpose(-1, -2)) / np.sqrt(self.d_head)\n",
        "        # attn_mat (B, num_heads, seqlen, seqlen)\n",
        "\n",
        "        \"\"\"Mask future tokens.\"\"\"\n",
        "        mask = torch.triu(torch.ones([seqlen, seqlen]), diagonal=1)[None, None, :, :]\n",
        "        mask[mask.bool()] = -np.inf\n",
        "        attn_mat = attn_mat + mask.to(device)\n",
        "        \n",
        "        \"\"\"Calculate affinities.\"\"\"\n",
        "        affinity = F.softmax(attn_mat, dim=-1)\n",
        "        \n",
        "        \"\"\"Compute new representations.\"\"\"\n",
        "        weighted = torch.matmul(self.dropout_att(affinity), v)\n",
        "        # weighted (B, num_heads, seqlen, d_head)\n",
        "        merged = (weighted.transpose(1, 2).contiguous()\n",
        "            .view(bsz, -1, self.d_model))\n",
        "        # merged (B, seqlen, d_model)\n",
        "        out = self.fc(merged)\n",
        "        out = self.dropout_ff(out)\n",
        "        attn_out = self.norm1(out + x)\n",
        "\n",
        "        \"\"\"Positionwise feed-forward network.\"\"\"\n",
        "        out = self.ffn2(F.relu(self.ffn1(attn_out)))\n",
        "        # out (B, seqlen, d_model)\n",
        "        out = self.dropout_ff(out)\n",
        "        ffn_out = self.norm2(out + attn_out)\n",
        "        ffn_out = ffn_out.transpose(1, 2)\n",
        "        # ffn_out (B, d_model, seqlen)\n",
        "\n",
        "        if return_affinity:\n",
        "            return ffn_out, affinity\n",
        "        return ffn_out"
      ],
      "execution_count": 0,
      "outputs": []
    },
    {
      "cell_type": "code",
      "metadata": {
        "id": "0EzwVJuhxQxg",
        "colab_type": "code",
        "colab": {}
      },
      "source": [
        "class Embedding(nn.Module):\n",
        "    def __init__(self, vocab_size, d_model):\n",
        "        super(Embedding, self).__init__()\n",
        "        self.embedding = nn.Embedding(vocab_size, d_model)\n",
        "        self.encoding = PositionalEncoding(d_model)\n",
        "        self.norm = nn.LayerNorm(d_model)\n",
        "        \n",
        "    def forward(self, x):\n",
        "        # (seqlen, B)\n",
        "        x = self.embedding(x)\n",
        "        # (seqlen, B, d_model)\n",
        "        x = x.permute(1, 2, 0)\n",
        "        # (B, d_model, seqlen)\n",
        "        x = self.encoding(x)\n",
        "        x = self.norm(x.transpose(1, 2))\n",
        "        return x.transpose(1, 2)"
      ],
      "execution_count": 0,
      "outputs": []
    },
    {
      "cell_type": "code",
      "metadata": {
        "id": "81vyoDSRxQxi",
        "colab_type": "code",
        "colab": {}
      },
      "source": [
        "class OutputProjection(nn.Module):\n",
        "    def __init__(self, d_model, vocab_size):\n",
        "        super(OutputProjection, self).__init__()\n",
        "        self.proj = nn.Linear(d_model, vocab_size)\n",
        "        \n",
        "    def forward(self, x):\n",
        "        x = x.transpose(1, 2)\n",
        "        x = self.proj(x)\n",
        "        return x"
      ],
      "execution_count": 0,
      "outputs": []
    },
    {
      "cell_type": "code",
      "metadata": {
        "id": "nGnQY5rWxQxk",
        "colab_type": "code",
        "colab": {}
      },
      "source": [
        "class PositionalEncoding(nn.Module):\n",
        "    def __init__(self, d_model):\n",
        "        super(PositionalEncoding, self).__init__()\n",
        "        self.d_model = d_model\n",
        "        self.inv_freq_sin = 1. / (10000 ** (torch.arange(0., d_model, 2.) / d_model))\n",
        "        self.inv_freq_cos = 1. / (10000 ** (torch.arange(1., d_model, 2.) / d_model))\n",
        "        \n",
        "    def forward(self, x):\n",
        "        bsz, emb, seqlen = x.size()\n",
        "        assert emb == self.d_model\n",
        "        pos_seq = torch.arange(0., seqlen, 1.)\n",
        "        sin_inp = torch.ger(pos_seq, self.inv_freq_sin).sin()\n",
        "        cos_inp = torch.ger(pos_seq, self.inv_freq_cos).cos()\n",
        "        pos_enc = torch.stack((sin_inp, cos_inp), dim=2).view(1, seqlen, emb)\n",
        "        merged = np.sqrt(self.d_model) * x + pos_enc.transpose(1, 2).to(device)\n",
        "        return merged"
      ],
      "execution_count": 0,
      "outputs": []
    },
    {
      "cell_type": "code",
      "metadata": {
        "id": "uiYfiZ-txQxm",
        "colab_type": "code",
        "colab": {}
      },
      "source": [
        "class Transformer(nn.Module):\n",
        "    def __init__(self, vocab_size, d_model, d_inner, n_heads, n_layers, \n",
        "                 dropout_ff, dropout_att):\n",
        "        super(Transformer, self).__init__()\n",
        "        \n",
        "        self.vocab_size = vocab_size\n",
        "        self.d_model = d_model\n",
        "        self.d_inner = d_inner\n",
        "        self.n_heads = n_heads\n",
        "        self.n_layers = n_layers\n",
        "        self.dropout_ff = dropout_ff\n",
        "        self.dropout_att = dropout_att\n",
        "        \n",
        "        self.layers = nn.ModuleList()\n",
        "        self.layers.append(Embedding(vocab_size, d_model))\n",
        "        self.layers.extend([Attention(d_model, n_heads, d_inner, dropout_ff, \n",
        "                                      dropout_att) for _ in range(n_layers)])\n",
        "        self.layers.append(OutputProjection(d_model, vocab_size))\n",
        "    \n",
        "    def affinity(self, x):\n",
        "        affs = []\n",
        "        for layer in self.layers:\n",
        "            if isinstance(layer, Attention):\n",
        "                x, aff = layer(x, return_affinity=True)\n",
        "                affs.append(aff[:, None, :, :, :])\n",
        "            else:\n",
        "                x = layer(x)\n",
        "        # (B, nlayers, nheads, seqlen, seqlen)\n",
        "        affs = torch.cat(affs, 1)\n",
        "        return affs\n",
        "            \n",
        "    def _forward(self, x):\n",
        "        for layer in self.layers:\n",
        "            x = layer(x)\n",
        "        return x\n",
        "        \n",
        "    def forward(self, x, y):\n",
        "        pred = self._forward(x).contiguous()\n",
        "        pred = pred.view(-1, self.vocab_size)\n",
        "        # pred (B * seqlen, vocab_size)\n",
        "        y = y.t().contiguous().view(-1)\n",
        "        # y (B * seqlen)\n",
        "        loss = F.cross_entropy(pred, y)\n",
        "        return loss"
      ],
      "execution_count": 0,
      "outputs": []
    },
    {
      "cell_type": "markdown",
      "metadata": {
        "id": "G5wQXy5E0SIa",
        "colab_type": "text"
      },
      "source": [
        "# Hyperparameters"
      ]
    },
    {
      "cell_type": "code",
      "metadata": {
        "id": "FJdLbX_2xQxo",
        "colab_type": "code",
        "colab": {}
      },
      "source": [
        "D_MODEL = 256\n",
        "D_INNER = 512\n",
        "N_HEADS = 4\n",
        "N_LAYERS = 4\n",
        "DROPOUT_FF = 0.1\n",
        "DROPOUT_ATT = 0.0\n",
        "BATCH_SIZE = 20\n",
        "MAX_SEQLEN = 128\n",
        "LEARNING_RATE = 2.5e-4\n",
        "ANNEAL_STEPS = 400000\n",
        "GRAD_CLIP = 0.25\n",
        "LOG_INTERVAL = 100\n",
        "EVAL_INTERVAL = 2000\n",
        "N_EPOCHS = 100"
      ],
      "execution_count": 0,
      "outputs": []
    },
    {
      "cell_type": "markdown",
      "metadata": {
        "id": "539RD5y90WTS",
        "colab_type": "text"
      },
      "source": [
        "# Training"
      ]
    },
    {
      "cell_type": "code",
      "metadata": {
        "id": "0wKngagXxQxq",
        "colab_type": "code",
        "colab": {}
      },
      "source": [
        "device = torch.device('cuda') if torch.cuda.is_available() else torch.device('cpu')"
      ],
      "execution_count": 0,
      "outputs": []
    },
    {
      "cell_type": "markdown",
      "metadata": {
        "id": "5Js23ZCKFjYz",
        "colab_type": "text"
      },
      "source": [
        "Here we produce our language modeling corpus."
      ]
    },
    {
      "cell_type": "code",
      "metadata": {
        "id": "NUfper3V6KlF",
        "colab_type": "code",
        "outputId": "edd9a163-d993-445a-86aa-969376d6308e",
        "colab": {
          "base_uri": "https://localhost:8080/",
          "height": 34
        }
      },
      "source": [
        "corpus = get_lm_corpus('./', 'enwik8')\n",
        "VOCAB_SIZE = len(corpus.vocab)"
      ],
      "execution_count": 0,
      "outputs": [
        {
          "output_type": "stream",
          "text": [
            "Loading cached dataset...\n"
          ],
          "name": "stdout"
        }
      ]
    },
    {
      "cell_type": "markdown",
      "metadata": {
        "id": "bC7sjaFvFowP",
        "colab_type": "text"
      },
      "source": [
        "And create three iterators: one for each dataset (training, validation, testing)."
      ]
    },
    {
      "cell_type": "code",
      "metadata": {
        "id": "v5M8kMh46NNx",
        "colab_type": "code",
        "colab": {}
      },
      "source": [
        "train_iter = corpus.get_iterator('train', BATCH_SIZE, MAX_SEQLEN, device)\n",
        "valid_iter = corpus.get_iterator('valid', BATCH_SIZE, MAX_SEQLEN, device)\n",
        "test_iter = corpus.get_iterator('test', BATCH_SIZE, MAX_SEQLEN, device)"
      ],
      "execution_count": 0,
      "outputs": []
    },
    {
      "cell_type": "markdown",
      "metadata": {
        "id": "ZysJucaTFuCY",
        "colab_type": "text"
      },
      "source": [
        "Now let's make our model."
      ]
    },
    {
      "cell_type": "code",
      "metadata": {
        "id": "fxafJYUJ6TMW",
        "colab_type": "code",
        "colab": {}
      },
      "source": [
        "model = Transformer(vocab_size=VOCAB_SIZE, d_model=D_MODEL, d_inner=D_INNER, \n",
        "                    n_heads=N_HEADS, n_layers=N_LAYERS, dropout_ff=DROPOUT_FF,\n",
        "                    dropout_att=DROPOUT_ATT).to(device)"
      ],
      "execution_count": 0,
      "outputs": []
    },
    {
      "cell_type": "markdown",
      "metadata": {
        "id": "4qQ0EOsiFwBf",
        "colab_type": "text"
      },
      "source": [
        "And initialize the weights of the network so that the variance at the input of each hidden layer is near unity."
      ]
    },
    {
      "cell_type": "code",
      "metadata": {
        "id": "sVTTVrqpEHol",
        "colab_type": "code",
        "colab": {}
      },
      "source": [
        "for p in model.parameters():\n",
        "    if p.dim() > 1:\n",
        "        nn.init.xavier_uniform_(p)"
      ],
      "execution_count": 0,
      "outputs": []
    },
    {
      "cell_type": "code",
      "metadata": {
        "id": "6DQOc6AXBOWu",
        "colab_type": "code",
        "outputId": "6d928f84-fee1-4a44-f374-aeebe3c6abce",
        "colab": {
          "base_uri": "https://localhost:8080/",
          "height": 34
        }
      },
      "source": [
        "print(\"Model created. {} trainable parameters.\".format(n_params(model)))"
      ],
      "execution_count": 0,
      "outputs": [
        {
          "output_type": "stream",
          "text": [
            "Model created. 2213580 trainable parameters.\n"
          ],
          "name": "stdout"
        }
      ]
    },
    {
      "cell_type": "markdown",
      "metadata": {
        "id": "XkRkZOA7GOpC",
        "colab_type": "text"
      },
      "source": [
        "Let's take a look at the data."
      ]
    },
    {
      "cell_type": "code",
      "metadata": {
        "id": "S1Eqggov5TPb",
        "colab_type": "code",
        "colab": {}
      },
      "source": [
        "src, tgt, seq_len = next(iter(train_iter))"
      ],
      "execution_count": 0,
      "outputs": []
    },
    {
      "cell_type": "code",
      "metadata": {
        "id": "tMC1LKf0GUVP",
        "colab_type": "code",
        "outputId": "b81c91cb-1e70-4a11-9f46-fc7ec1cbfe83",
        "colab": {
          "base_uri": "https://localhost:8080/",
          "height": 34
        }
      },
      "source": [
        "print(src.shape, tgt.shape, seq_len)"
      ],
      "execution_count": 0,
      "outputs": [
        {
          "output_type": "stream",
          "text": [
            "torch.Size([128, 20]) torch.Size([128, 20]) 128\n"
          ],
          "name": "stdout"
        }
      ]
    },
    {
      "cell_type": "markdown",
      "metadata": {
        "id": "4EK3O2JTGRWb",
        "colab_type": "text"
      },
      "source": [
        "Notice the source and target are (seqlen, B) in shape."
      ]
    },
    {
      "cell_type": "code",
      "metadata": {
        "id": "c3qZRnez5XNj",
        "colab_type": "code",
        "outputId": "ccedfb47-5f94-4b7b-a9f9-10d65371fb8f",
        "colab": {
          "base_uri": "https://localhost:8080/",
          "height": 34
        }
      },
      "source": [
        "print(src[:10, 0], tgt[:10, 0])"
      ],
      "execution_count": 0,
      "outputs": [
        {
          "output_type": "stream",
          "text": [
            "tensor([41, 16,  1, 11,  4,  3, 23,  4, 32,  4], device='cuda:0') tensor([16,  1, 11,  4,  3, 23,  4, 32,  4,  0], device='cuda:0')\n"
          ],
          "name": "stdout"
        }
      ]
    },
    {
      "cell_type": "markdown",
      "metadata": {
        "id": "zGQeNIsRGc-l",
        "colab_type": "text"
      },
      "source": [
        "We can also see explicitly that the target for a given source is simply the source shifted over by one character i.e. given an input character our aim is to predict the subsequent character at each time step."
      ]
    },
    {
      "cell_type": "markdown",
      "metadata": {
        "id": "xmFxuzcHGrrO",
        "colab_type": "text"
      },
      "source": [
        "It's also good practice to check that we get a reasonable loss after randomly initializing the network. Since we output a discrete distribution over `VOCAB_SIZE` values, we expect initially to be guessing at random with a probability `1/VOCAB_SIZE` of guessing correctly. This corresponds to a cross entropy loss of `-ln(1/VOCAB_SIZE)`. Let's make sure we find something close."
      ]
    },
    {
      "cell_type": "code",
      "metadata": {
        "id": "T9hfEu4EKQzI",
        "colab_type": "code",
        "outputId": "2a60e097-c8c4-49e5-b15d-e07546e63e7c",
        "colab": {
          "base_uri": "https://localhost:8080/",
          "height": 34
        }
      },
      "source": [
        "print('Model loss: {:.3f} | Random guessing loss: {:.3f}'.format(model(src, tgt).item(), -np.log(1./VOCAB_SIZE)))"
      ],
      "execution_count": 0,
      "outputs": [
        {
          "output_type": "stream",
          "text": [
            "Model loss: 5.802 | Random guessing loss: 5.318\n"
          ],
          "name": "stdout"
        }
      ]
    },
    {
      "cell_type": "code",
      "metadata": {
        "id": "7ifBv3tOxQxx",
        "colab_type": "code",
        "colab": {}
      },
      "source": [
        "optimizer = optim.AdamW(model.parameters(), lr=LEARNING_RATE)\n",
        "scheduler = optim.lr_scheduler.CosineAnnealingLR(optimizer, ANNEAL_STEPS)"
      ],
      "execution_count": 0,
      "outputs": []
    },
    {
      "cell_type": "code",
      "metadata": {
        "id": "D-9DGv9xxQx3",
        "colab_type": "code",
        "colab": {}
      },
      "source": [
        "global_step = 0\n",
        "best_val_loss = np.inf\n",
        "metrics = col.defaultdict(list)"
      ],
      "execution_count": 0,
      "outputs": []
    },
    {
      "cell_type": "code",
      "metadata": {
        "id": "YfleaMPpxQx7",
        "colab_type": "code",
        "colab": {}
      },
      "source": [
        "def train():\n",
        "    model.train()\n",
        "    train_loss = 0\n",
        "    global best_val_loss, metrics, global_step\n",
        "    \n",
        "    for epoch in range(N_EPOCHS):\n",
        "        for batch, (src, tgt, seqlen) in enumerate(train_iter):\n",
        "            model.zero_grad()\n",
        "            loss = model(src, tgt)\n",
        "            loss = loss.float().mean()\n",
        "            train_loss += loss.float().item()\n",
        "            loss.backward()\n",
        "            U.clip_grad_norm_(model.parameters(), GRAD_CLIP)\n",
        "            optimizer.step()\n",
        "            scheduler.step()\n",
        "            global_step += 1\n",
        "\n",
        "            if batch % LOG_INTERVAL == 0 and batch != 0:\n",
        "                cur_loss = train_loss / LOG_INTERVAL\n",
        "                metrics['train_gs'].append(global_step)\n",
        "                metrics['train_loss'].append(cur_loss)\n",
        "                print('Epoch: {} | Batch: {} | Current Loss: {}'.format(\n",
        "                    epoch, batch, cur_loss))\n",
        "                train_loss = 0\n",
        "\n",
        "            if batch % EVAL_INTERVAL == 0 and batch != 0:\n",
        "                evaluate()"
      ],
      "execution_count": 0,
      "outputs": []
    },
    {
      "cell_type": "code",
      "metadata": {
        "id": "dcHEbw3v7ln5",
        "colab_type": "code",
        "colab": {}
      },
      "source": [
        "def evaluate():\n",
        "    model.eval()\n",
        "    global best_val_loss, metrics, global_step\n",
        "    \n",
        "    val_loss = 0\n",
        "    with torch.no_grad():\n",
        "        for batch, (src, tgt, seqlen) in enumerate(valid_iter):\n",
        "            loss = model(src, tgt)\n",
        "            loss = loss.float().mean()\n",
        "            val_loss += loss.float().item()\n",
        "    val_loss = val_loss / (batch + 1)\n",
        "    \n",
        "    print('=' * 100)\n",
        "    print('Current validation loss: {}'.format(val_loss))\n",
        "    print('=' * 100)\n",
        "\n",
        "    metrics['valid_gs'].append(global_step)\n",
        "    metrics['valid_loss'].append(val_loss)\n",
        "    \n",
        "    if val_loss < best_val_loss:\n",
        "        best_val_loss = val_loss\n",
        "        with open('model.pt', 'wb') as f:\n",
        "            torch.save(model.state_dict(), f)\n",
        "    \n",
        "    with open('metrics.pkl', 'wb') as f:\n",
        "      pickle.dump(metrics, f)\n",
        "            \n",
        "    model.train()"
      ],
      "execution_count": 0,
      "outputs": []
    },
    {
      "cell_type": "code",
      "metadata": {
        "id": "jC3_LjtyPWE_",
        "colab_type": "code",
        "colab": {}
      },
      "source": [
        "def generate(seed, max_len=128, sample=False, temperature=1.):\n",
        "    model.eval()\n",
        "\n",
        "    n = len(seed)\n",
        "    seed = [corpus.vocab.get_idx(str(ord(c))) for c in seed]\n",
        "    src = torch.LongTensor(seed).unsqueeze(1).to(device)\n",
        "\n",
        "    with torch.no_grad():\n",
        "      # Autoregressive sampling\n",
        "      for i in range(max_len - n):\n",
        "          pred = model._forward(src)\n",
        "          if sample:\n",
        "            dist = F.softmax(pred / temperature, -1)\n",
        "            c = torch.distributions.Categorical(dist)\n",
        "            words = c.sample().t()\n",
        "          else:\n",
        "            words = pred.argmax(-1).t()\n",
        "          src = torch.cat([src, words[-1:]], 0)\n",
        "    \n",
        "    src = src.detach().cpu().numpy().flatten()\n",
        "    out = [corpus.vocab.get_sym(idx) for idx in src]\n",
        "    phrase = ''.join([chr(int(c)) for c in out])\n",
        "    \n",
        "    return phrase"
      ],
      "execution_count": 0,
      "outputs": []
    },
    {
      "cell_type": "markdown",
      "metadata": {
        "id": "SJ3yz7SzIHPT",
        "colab_type": "text"
      },
      "source": [
        "Now let's start training. At each evaluation step, the model will be saved if it performs better than at the last evaluation."
      ]
    },
    {
      "cell_type": "code",
      "metadata": {
        "scrolled": true,
        "id": "GcTFP9Z8xQyC",
        "colab_type": "code",
        "outputId": "0357a261-a87a-468f-f461-86dcbaa69975",
        "colab": {
          "base_uri": "https://localhost:8080/",
          "height": 1000
        }
      },
      "source": [
        "try:\n",
        "    train()\n",
        "except KeyboardInterrupt:\n",
        "    save = input('Aborting training. Save model (y/n)? ')\n",
        "    if save.lower() == 'y':\n",
        "        with open('model.pt', 'wb') as f:\n",
        "            torch.save(model.state_dict(), f)"
      ],
      "execution_count": 0,
      "outputs": [
        {
          "output_type": "stream",
          "text": [
            "Epoch: 0 | Batch: 100 | Current Loss: 3.1273014426231383\n",
            "Epoch: 0 | Batch: 200 | Current Loss: 2.6969605135917663\n",
            "Epoch: 0 | Batch: 300 | Current Loss: 2.5829190254211425\n",
            "Epoch: 0 | Batch: 400 | Current Loss: 2.421724419593811\n",
            "Epoch: 0 | Batch: 500 | Current Loss: 2.427252297401428\n",
            "Epoch: 0 | Batch: 600 | Current Loss: 2.3510650539398195\n",
            "Epoch: 0 | Batch: 700 | Current Loss: 2.3072413754463197\n",
            "Epoch: 0 | Batch: 800 | Current Loss: 2.2590156507492067\n",
            "Epoch: 0 | Batch: 900 | Current Loss: 2.21658931016922\n",
            "Epoch: 0 | Batch: 1000 | Current Loss: 2.137557135820389\n",
            "Epoch: 0 | Batch: 1100 | Current Loss: 2.1404385566711426\n",
            "Epoch: 0 | Batch: 1200 | Current Loss: 2.002024199962616\n",
            "Epoch: 0 | Batch: 1300 | Current Loss: 1.9997404778003693\n",
            "Epoch: 0 | Batch: 1400 | Current Loss: 2.0569986653327943\n",
            "Epoch: 0 | Batch: 1500 | Current Loss: 1.9676348781585693\n",
            "Epoch: 0 | Batch: 1600 | Current Loss: 2.0019256353378294\n",
            "Epoch: 0 | Batch: 1700 | Current Loss: 1.9734273076057434\n",
            "Epoch: 0 | Batch: 1800 | Current Loss: 1.9749938583374023\n",
            "Epoch: 0 | Batch: 1900 | Current Loss: 1.9780888426303864\n",
            "Epoch: 0 | Batch: 2000 | Current Loss: 1.9354206454753875\n",
            "====================================================================================================\n",
            "Current validation loss: 1.935152755699296\n",
            "====================================================================================================\n",
            "Epoch: 0 | Batch: 2100 | Current Loss: 1.941055153608322\n",
            "Epoch: 0 | Batch: 2200 | Current Loss: 1.9004135346412658\n",
            "Epoch: 0 | Batch: 2300 | Current Loss: 1.9130778658390044\n",
            "Epoch: 0 | Batch: 2400 | Current Loss: 1.8450869035720825\n",
            "Epoch: 0 | Batch: 2500 | Current Loss: 1.847847752571106\n",
            "Epoch: 0 | Batch: 2600 | Current Loss: 1.8573704588413238\n",
            "Epoch: 0 | Batch: 2700 | Current Loss: 1.8745335245132446\n",
            "Epoch: 0 | Batch: 2800 | Current Loss: 1.7867811501026154\n",
            "Epoch: 0 | Batch: 2900 | Current Loss: 1.7976339173316955\n",
            "Epoch: 0 | Batch: 3000 | Current Loss: 1.769605736732483\n",
            "Epoch: 0 | Batch: 3100 | Current Loss: 1.7842361092567445\n",
            "Epoch: 0 | Batch: 3200 | Current Loss: 1.7755753409862518\n",
            "Epoch: 0 | Batch: 3300 | Current Loss: 1.759651973247528\n",
            "Epoch: 0 | Batch: 3400 | Current Loss: 1.7486023652553557\n",
            "Epoch: 0 | Batch: 3500 | Current Loss: 1.7444587290287017\n",
            "Epoch: 0 | Batch: 3600 | Current Loss: 1.7483750700950622\n",
            "Epoch: 0 | Batch: 3700 | Current Loss: 1.7436928272247314\n",
            "Epoch: 0 | Batch: 3800 | Current Loss: 1.7178388774394988\n",
            "Epoch: 0 | Batch: 3900 | Current Loss: 1.7377776205539703\n",
            "Epoch: 0 | Batch: 4000 | Current Loss: 1.7106336593627929\n",
            "====================================================================================================\n",
            "Current validation loss: 1.7556473234548826\n",
            "====================================================================================================\n",
            "Epoch: 0 | Batch: 4100 | Current Loss: 1.7093367266654969\n",
            "Epoch: 0 | Batch: 4200 | Current Loss: 1.7541184186935426\n",
            "Epoch: 0 | Batch: 4300 | Current Loss: 1.7457157516479491\n",
            "Epoch: 0 | Batch: 4400 | Current Loss: 1.696532644033432\n",
            "Epoch: 0 | Batch: 4500 | Current Loss: 1.7045297563076018\n",
            "Epoch: 0 | Batch: 4600 | Current Loss: 1.6768143308162688\n",
            "Epoch: 0 | Batch: 4700 | Current Loss: 1.6758216977119447\n",
            "Epoch: 0 | Batch: 4800 | Current Loss: 1.6867934048175812\n",
            "Epoch: 0 | Batch: 4900 | Current Loss: 1.6548079347610474\n",
            "Epoch: 0 | Batch: 5000 | Current Loss: 1.6640698194503785\n",
            "Epoch: 0 | Batch: 5100 | Current Loss: 1.6717768454551696\n",
            "Epoch: 0 | Batch: 5200 | Current Loss: 1.6409277677536012\n",
            "Epoch: 0 | Batch: 5300 | Current Loss: 1.6404284596443177\n",
            "Epoch: 0 | Batch: 5400 | Current Loss: 1.6769454181194305\n",
            "Epoch: 0 | Batch: 5500 | Current Loss: 1.6673563969135285\n",
            "Epoch: 0 | Batch: 5600 | Current Loss: 1.5853055679798127\n",
            "Epoch: 0 | Batch: 5700 | Current Loss: 1.6360572373867035\n",
            "Epoch: 0 | Batch: 5800 | Current Loss: 1.609270828962326\n",
            "Epoch: 0 | Batch: 5900 | Current Loss: 1.6198496687412263\n",
            "Epoch: 0 | Batch: 6000 | Current Loss: 1.6207854211330415\n",
            "====================================================================================================\n",
            "Current validation loss: 1.6603571918193352\n",
            "====================================================================================================\n",
            "Epoch: 0 | Batch: 6100 | Current Loss: 1.6262559044361113\n",
            "Epoch: 0 | Batch: 6200 | Current Loss: 1.594134625196457\n",
            "Epoch: 0 | Batch: 6300 | Current Loss: 1.6329087269306184\n",
            "Epoch: 0 | Batch: 6400 | Current Loss: 1.6427925765514373\n",
            "Epoch: 0 | Batch: 6500 | Current Loss: 1.5944150388240814\n",
            "Epoch: 0 | Batch: 6600 | Current Loss: 1.5705075478553772\n",
            "Epoch: 0 | Batch: 6700 | Current Loss: 1.5840156817436217\n",
            "Epoch: 0 | Batch: 6800 | Current Loss: 1.5800951623916626\n",
            "Epoch: 0 | Batch: 6900 | Current Loss: 1.5873193514347077\n",
            "Epoch: 0 | Batch: 7000 | Current Loss: 1.6189017069339753\n",
            "Epoch: 0 | Batch: 7100 | Current Loss: 1.560485179424286\n",
            "Epoch: 0 | Batch: 7200 | Current Loss: 1.5748322236537933\n",
            "Epoch: 0 | Batch: 7300 | Current Loss: 1.50560063123703\n",
            "Epoch: 0 | Batch: 7400 | Current Loss: 1.5312039494514464\n",
            "Epoch: 0 | Batch: 7500 | Current Loss: 1.5977616012096405\n",
            "Epoch: 0 | Batch: 7600 | Current Loss: 1.6006001818180084\n",
            "Epoch: 0 | Batch: 7700 | Current Loss: 1.5812259387969971\n",
            "Epoch: 0 | Batch: 7800 | Current Loss: 1.6344062221050262\n",
            "Epoch: 0 | Batch: 7900 | Current Loss: 1.5873290276527405\n",
            "Epoch: 0 | Batch: 8000 | Current Loss: 1.5814282619953155\n",
            "====================================================================================================\n",
            "Current validation loss: 1.6075148277030968\n",
            "====================================================================================================\n",
            "Epoch: 0 | Batch: 8100 | Current Loss: 1.550431377887726\n",
            "Epoch: 0 | Batch: 8200 | Current Loss: 1.5392478144168853\n",
            "Epoch: 0 | Batch: 8300 | Current Loss: 1.5117796206474303\n",
            "Epoch: 0 | Batch: 8400 | Current Loss: 1.5292857253551484\n",
            "Epoch: 0 | Batch: 8500 | Current Loss: 1.5642453479766845\n",
            "Epoch: 0 | Batch: 8600 | Current Loss: 1.5962520921230317\n",
            "Epoch: 0 | Batch: 8700 | Current Loss: 1.5510613203048706\n",
            "Epoch: 0 | Batch: 8800 | Current Loss: 1.5607305109500884\n",
            "Epoch: 0 | Batch: 8900 | Current Loss: 1.55872301697731\n",
            "Epoch: 0 | Batch: 9000 | Current Loss: 1.5496169662475585\n",
            "Epoch: 0 | Batch: 9100 | Current Loss: 1.5924357128143312\n",
            "Epoch: 0 | Batch: 9200 | Current Loss: 1.5961043775081634\n",
            "Epoch: 0 | Batch: 9300 | Current Loss: 1.5881911659240722\n",
            "Epoch: 0 | Batch: 9400 | Current Loss: 1.5643104362487792\n",
            "Epoch: 0 | Batch: 9500 | Current Loss: 1.53173308968544\n",
            "Epoch: 0 | Batch: 9600 | Current Loss: 1.543973684310913\n",
            "Epoch: 0 | Batch: 9700 | Current Loss: 1.5293393850326538\n",
            "Epoch: 0 | Batch: 9800 | Current Loss: 1.5492566049098968\n",
            "Epoch: 0 | Batch: 9900 | Current Loss: 1.5682458674907684\n",
            "Epoch: 0 | Batch: 10000 | Current Loss: 1.5254571068286895\n",
            "====================================================================================================\n",
            "Current validation loss: 1.552823358502694\n",
            "====================================================================================================\n",
            "Epoch: 0 | Batch: 10100 | Current Loss: 1.49083340883255\n",
            "Epoch: 0 | Batch: 10200 | Current Loss: 1.5202400028705596\n",
            "Epoch: 0 | Batch: 10300 | Current Loss: 1.5297537684440612\n",
            "Epoch: 0 | Batch: 10400 | Current Loss: 1.4795089077949524\n",
            "Epoch: 0 | Batch: 10500 | Current Loss: 1.475510791540146\n",
            "Epoch: 0 | Batch: 10600 | Current Loss: 1.449950269460678\n",
            "Epoch: 0 | Batch: 10700 | Current Loss: 1.444039338827133\n",
            "Epoch: 0 | Batch: 10800 | Current Loss: 1.4792377734184265\n",
            "Epoch: 0 | Batch: 10900 | Current Loss: 1.4690390574932097\n",
            "Epoch: 0 | Batch: 11000 | Current Loss: 1.4786875212192536\n",
            "Epoch: 0 | Batch: 11100 | Current Loss: 1.5023751521110535\n",
            "Epoch: 0 | Batch: 11200 | Current Loss: 1.5064170491695403\n",
            "Epoch: 0 | Batch: 11300 | Current Loss: 1.4717069637775422\n",
            "Epoch: 0 | Batch: 11400 | Current Loss: 1.4852322518825531\n",
            "Epoch: 0 | Batch: 11500 | Current Loss: 1.5134225356578828\n",
            "Epoch: 0 | Batch: 11600 | Current Loss: 1.4537660253047944\n",
            "Epoch: 0 | Batch: 11700 | Current Loss: 1.5091834938526154\n",
            "Epoch: 0 | Batch: 11800 | Current Loss: 1.5203972089290618\n",
            "Epoch: 0 | Batch: 11900 | Current Loss: 1.4807804143428802\n",
            "Epoch: 0 | Batch: 12000 | Current Loss: 1.4921853601932527\n",
            "====================================================================================================\n",
            "Current validation loss: 1.5339426018189692\n",
            "====================================================================================================\n",
            "Epoch: 0 | Batch: 12100 | Current Loss: 1.4617047452926635\n",
            "Epoch: 0 | Batch: 12200 | Current Loss: 1.4856040966510773\n",
            "Epoch: 0 | Batch: 12300 | Current Loss: 1.4722263848781585\n",
            "Epoch: 0 | Batch: 12400 | Current Loss: 1.4610916519165038\n",
            "Epoch: 0 | Batch: 12500 | Current Loss: 1.4651795732975006\n",
            "Epoch: 0 | Batch: 12600 | Current Loss: 1.4893112754821778\n",
            "Epoch: 0 | Batch: 12700 | Current Loss: 1.4990079152584075\n",
            "Epoch: 0 | Batch: 12800 | Current Loss: 1.4820634388923646\n",
            "Epoch: 0 | Batch: 12900 | Current Loss: 1.474899023771286\n",
            "Epoch: 0 | Batch: 13000 | Current Loss: 1.4531887578964233\n",
            "Epoch: 0 | Batch: 13100 | Current Loss: 1.4470034980773925\n",
            "Epoch: 0 | Batch: 13200 | Current Loss: 1.4985140478610992\n",
            "Epoch: 0 | Batch: 13300 | Current Loss: 1.4612150084972382\n",
            "Epoch: 0 | Batch: 13400 | Current Loss: 1.504299750328064\n",
            "Epoch: 0 | Batch: 13500 | Current Loss: 1.4988817620277404\n",
            "Epoch: 0 | Batch: 13600 | Current Loss: 1.5074329996109008\n",
            "Epoch: 0 | Batch: 13700 | Current Loss: 1.4728126776218415\n",
            "Epoch: 0 | Batch: 13800 | Current Loss: 1.4916130495071411\n",
            "Epoch: 0 | Batch: 13900 | Current Loss: 1.502769936323166\n",
            "Epoch: 0 | Batch: 14000 | Current Loss: 1.4354972207546235\n",
            "====================================================================================================\n",
            "Current validation loss: 1.5157664088729006\n",
            "====================================================================================================\n",
            "Epoch: 0 | Batch: 14100 | Current Loss: 1.4802524507045747\n",
            "Epoch: 0 | Batch: 14200 | Current Loss: 1.5153167676925658\n",
            "Epoch: 0 | Batch: 14300 | Current Loss: 1.4587979435920715\n",
            "Epoch: 0 | Batch: 14400 | Current Loss: 1.4493922579288483\n",
            "Epoch: 0 | Batch: 14500 | Current Loss: 1.4856478261947632\n",
            "Epoch: 0 | Batch: 14600 | Current Loss: 1.47320792555809\n",
            "Epoch: 0 | Batch: 14700 | Current Loss: 1.47033163189888\n",
            "Epoch: 0 | Batch: 14800 | Current Loss: 1.4489573180675506\n",
            "Epoch: 0 | Batch: 14900 | Current Loss: 1.4603834056854248\n",
            "Epoch: 0 | Batch: 15000 | Current Loss: 1.4619188976287842\n",
            "Epoch: 0 | Batch: 15100 | Current Loss: 1.4547647213935853\n",
            "Epoch: 0 | Batch: 15200 | Current Loss: 1.4525069522857665\n",
            "Epoch: 0 | Batch: 15300 | Current Loss: 1.4843017387390136\n",
            "Epoch: 0 | Batch: 15400 | Current Loss: 1.4262733817100526\n",
            "Epoch: 0 | Batch: 15500 | Current Loss: 1.452733677625656\n",
            "Epoch: 0 | Batch: 15600 | Current Loss: 1.4892822062969209\n",
            "Epoch: 0 | Batch: 15700 | Current Loss: 1.4652274763584137\n",
            "Epoch: 0 | Batch: 15800 | Current Loss: 1.4538303351402282\n",
            "Epoch: 0 | Batch: 15900 | Current Loss: 1.4503388833999633\n",
            "Epoch: 0 | Batch: 16000 | Current Loss: 1.494672235250473\n",
            "====================================================================================================\n",
            "Current validation loss: 1.4896534571489686\n",
            "====================================================================================================\n",
            "Epoch: 0 | Batch: 16100 | Current Loss: 1.4747782278060912\n",
            "Epoch: 0 | Batch: 16200 | Current Loss: 1.4348136842250825\n",
            "Epoch: 0 | Batch: 16300 | Current Loss: 1.4347857642173767\n",
            "Epoch: 0 | Batch: 16400 | Current Loss: 1.4884403848648071\n",
            "Epoch: 0 | Batch: 16500 | Current Loss: 1.4655007421970367\n",
            "Epoch: 0 | Batch: 16600 | Current Loss: 1.4417654907703399\n",
            "Epoch: 0 | Batch: 16700 | Current Loss: 1.4218163681030274\n",
            "Epoch: 0 | Batch: 16800 | Current Loss: 1.4693097734451295\n",
            "Epoch: 0 | Batch: 16900 | Current Loss: 1.4613477313518524\n",
            "Epoch: 0 | Batch: 17000 | Current Loss: 1.4605546545982362\n",
            "Epoch: 0 | Batch: 17100 | Current Loss: 1.4547018682956696\n",
            "Epoch: 0 | Batch: 17200 | Current Loss: 1.4500034713745118\n",
            "Epoch: 0 | Batch: 17300 | Current Loss: 1.4384850823879243\n",
            "Epoch: 0 | Batch: 17400 | Current Loss: 1.4506917822360992\n",
            "Epoch: 0 | Batch: 17500 | Current Loss: 1.4686486732959747\n",
            "Epoch: 0 | Batch: 17600 | Current Loss: 1.436964020729065\n",
            "Epoch: 0 | Batch: 17700 | Current Loss: 1.445584363937378\n",
            "Epoch: 0 | Batch: 17800 | Current Loss: 1.4357962501049042\n",
            "Epoch: 0 | Batch: 17900 | Current Loss: 1.4697344267368317\n",
            "Epoch: 0 | Batch: 18000 | Current Loss: 1.4191354930400848\n",
            "====================================================================================================\n",
            "Current validation loss: 1.4829577587035871\n",
            "====================================================================================================\n",
            "Epoch: 0 | Batch: 18100 | Current Loss: 1.4235898411273957\n",
            "Epoch: 0 | Batch: 18200 | Current Loss: 1.4264773726463318\n",
            "Epoch: 0 | Batch: 18300 | Current Loss: 1.4290114891529084\n",
            "Epoch: 0 | Batch: 18400 | Current Loss: 1.4506714749336242\n",
            "Epoch: 0 | Batch: 18500 | Current Loss: 1.465224461555481\n",
            "Epoch: 0 | Batch: 18600 | Current Loss: 1.4779650032520295\n",
            "Epoch: 0 | Batch: 18700 | Current Loss: 1.4529461884498596\n",
            "Epoch: 0 | Batch: 18800 | Current Loss: 1.45535391330719\n",
            "Epoch: 0 | Batch: 18900 | Current Loss: 1.426776807308197\n",
            "Epoch: 0 | Batch: 19000 | Current Loss: 1.402857654094696\n",
            "Epoch: 0 | Batch: 19100 | Current Loss: 1.4448728835582734\n",
            "Epoch: 0 | Batch: 19200 | Current Loss: 1.4885092687606811\n",
            "Epoch: 0 | Batch: 19300 | Current Loss: 1.5080985271930694\n",
            "Epoch: 0 | Batch: 19400 | Current Loss: 1.4356780445575714\n",
            "Epoch: 0 | Batch: 19500 | Current Loss: 1.4041831696033478\n",
            "Epoch: 0 | Batch: 19600 | Current Loss: 1.4419823110103607\n",
            "Epoch: 0 | Batch: 19700 | Current Loss: 1.443686887025833\n",
            "Epoch: 0 | Batch: 19800 | Current Loss: 1.4038594031333924\n",
            "Epoch: 0 | Batch: 19900 | Current Loss: 1.4265086376667022\n",
            "Epoch: 0 | Batch: 20000 | Current Loss: 1.3240291035175324\n",
            "====================================================================================================\n",
            "Current validation loss: 1.4665696203215028\n",
            "====================================================================================================\n",
            "Epoch: 0 | Batch: 20100 | Current Loss: 1.391676776409149\n",
            "Epoch: 0 | Batch: 20200 | Current Loss: 1.4161582100391388\n",
            "Epoch: 0 | Batch: 20300 | Current Loss: 1.4279485750198364\n",
            "Epoch: 0 | Batch: 20400 | Current Loss: 1.401574853658676\n",
            "Epoch: 0 | Batch: 20500 | Current Loss: 1.4351141774654388\n",
            "Epoch: 0 | Batch: 20600 | Current Loss: 1.4252294933795928\n",
            "Epoch: 0 | Batch: 20700 | Current Loss: 1.4106468451023102\n",
            "Epoch: 0 | Batch: 20800 | Current Loss: 1.3801986432075501\n",
            "Aborting training. Save model (y/n)? n\n"
          ],
          "name": "stdout"
        }
      ]
    },
    {
      "cell_type": "markdown",
      "metadata": {
        "id": "hAbJryJaPaqu",
        "colab_type": "text"
      },
      "source": [
        "Let's visualize our training curve."
      ]
    },
    {
      "cell_type": "code",
      "metadata": {
        "id": "JFV8UmIwPZNO",
        "colab_type": "code",
        "colab": {}
      },
      "source": [
        "with open('metrics.pkl', 'rb') as f:\n",
        "  m = pickle.load(f)"
      ],
      "execution_count": 0,
      "outputs": []
    },
    {
      "cell_type": "code",
      "metadata": {
        "id": "HXsC9pVNPjy0",
        "colab_type": "code",
        "outputId": "5e8a05ad-81fb-4ee7-88b2-518a4d28d5a9",
        "colab": {
          "base_uri": "https://localhost:8080/",
          "height": 485
        }
      },
      "source": [
        "plt.plot(m['train_gs'], m['train_loss'], label='Training Loss')\n",
        "plt.plot(m['valid_gs'], m['valid_loss'], label='Validation Loss')\n",
        "plt.legend()\n",
        "plt.show()"
      ],
      "execution_count": 0,
      "outputs": [
        {
          "output_type": "display_data",
          "data": {
            "image/png": "[encoded data removed]",
            "text/plain": [
              "<Figure size 1152x576 with 1 Axes>"
            ]
          },
          "metadata": {
            "tags": []
          }
        }
      ]
    },
    {
      "cell_type": "markdown",
      "metadata": {
        "id": "N0LU2MTmIFDI",
        "colab_type": "text"
      },
      "source": [
        "Now let's generate some sentences. First, we'll load the best saved model."
      ]
    },
    {
      "cell_type": "code",
      "metadata": {
        "id": "z5vuqQW2xQyJ",
        "colab_type": "code",
        "colab": {}
      },
      "source": [
        "with open('model.pt', 'rb') as f:\n",
        "  model.load_state_dict(torch.load(f))"
      ],
      "execution_count": 0,
      "outputs": []
    },
    {
      "cell_type": "markdown",
      "metadata": {
        "id": "7cJLOjblP2aG",
        "colab_type": "text"
      },
      "source": [
        "Then we'll choose a seed and repeatedly sample from the Transformer. Remember, it will use its own outputs to generate new outputs since it is an autoregressive model. This means we pass in a seed, have it make a prediction, append that to the end of the seed, and repeat."
      ]
    },
    {
      "cell_type": "code",
      "metadata": {
        "id": "VDsApXc9JZFw",
        "colab_type": "code",
        "colab": {}
      },
      "source": [
        "seed = 'The Milky Way '"
      ],
      "execution_count": 0,
      "outputs": []
    },
    {
      "cell_type": "code",
      "metadata": {
        "id": "pgcy1SuVJOoA",
        "colab_type": "code",
        "outputId": "04215a6d-9b9f-4290-d257-ca208920fda6",
        "colab": {
          "base_uri": "https://localhost:8080/",
          "height": 34
        }
      },
      "source": [
        "generate(seed, max_len=100, sample=True, temperature=0.8)"
      ],
      "execution_count": 0,
      "outputs": [
        {
          "output_type": "execute_result",
          "data": {
            "text/plain": [
              "\"The Milky Way Twin each field in Space of State do not parallel in the Imperial Night's wide, in 199\""
            ]
          },
          "metadata": {
            "tags": []
          },
          "execution_count": 76
        }
      ]
    },
    {
      "cell_type": "code",
      "metadata": {
        "id": "9svp9CPwX2XN",
        "colab_type": "code",
        "colab": {}
      },
      "source": [
        ""
      ],
      "execution_count": 0,
      "outputs": []
    }
  ]
}